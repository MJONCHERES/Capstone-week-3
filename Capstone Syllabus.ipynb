{
    "cells": [
        {
            "cell_type": "markdown",
            "metadata": {
                "collapsed": true
            },
            "source": "# Battle of the Neighborhoods (week 1)"
        },
        {
            "cell_type": "code",
            "execution_count": null,
            "metadata": {},
            "outputs": [],
            "source": ""
        },
        {
            "cell_type": "markdown",
            "metadata": {},
            "source": "### Business Understanding"
        },
        {
            "cell_type": "markdown",
            "metadata": {},
            "source": "Before Covid-19, tourists used to travel all over the world very easily. In a post-Covid environment, they will hopefully be able to resume traveling. They may however have different expectations and change the way they travel. Maybe they will no more rush to foreign cities, spend a few days running from one interest point to another and come back? Maybe they will take time to relax, enjoy, listen to birds and breathe cleaner air in gardens, parks and trails? Wouldn\u2019t it be nice for a travel agency to be able to recommend a city trip based on what their clients truly expect?"
        },
        {
            "cell_type": "markdown",
            "metadata": {},
            "source": "With a bit of data science, travel agencies can get an overview of what some well-known European cities have to offer to visitors. These cities are famous for their historical buildings and their shopping streets, but what can they also offer to their clients in terms of \u2018ecotourism\u2019 or \u2018green travel\u2019? We\u2019ll try to compare them so that travel agencies can recommend the right trip to their clients, depending on their wishes. And, once they decide, the travel agencies would be able to deliver maps of the chosen city with recommendation of where to go depending on what visitors want to experience."
        },
        {
            "cell_type": "markdown",
            "metadata": {},
            "source": "Let\u2019s have a look at two cities in the southern Europe (Rome and Barcelona) and two cities a few degrees further North (Paris and London)."
        },
        {
            "cell_type": "code",
            "execution_count": null,
            "metadata": {},
            "outputs": [],
            "source": ""
        },
        {
            "cell_type": "markdown",
            "metadata": {},
            "source": "### Data strategy"
        },
        {
            "cell_type": "markdown",
            "metadata": {},
            "source": "We can quickly notice that cities are very different in size from one another. As we assume most tourists are interested in spending time between cultural locations, shopping tours, sightseeing, exploring museums or getting fresh air in green spaces, we\u2019ll focus on the most active and rich part of cities ie downtown areas. This will lead us to scan the Inner London (330 km2 already, as opposed to Greater London which is more like 1600km2!), Paris \u2018intra-muros\u2019 (meaning without suburbs, for a total of c.87 km2). Barcelona is similar to Paris in size whereas Rome is much larger (c.1300km2) and we\u2019ll have to stick to central districts. "
        },
        {
            "cell_type": "markdown",
            "metadata": {},
            "source": "As far as Paris is concerned, we will include the two public parks respectively West and East of the central city. These parks are actually owned by Paris city but are often excluded from statistics as nobody lives there."
        },
        {
            "cell_type": "markdown",
            "metadata": {},
            "source": "Data is available from different websites. Wikipedia will provide the list of their boroughs, population, size in a consistent manner. It\u2019s important to use a unique source to make sure size and population actually match the split of boroughs. "
        },
        {
            "cell_type": "markdown",
            "metadata": {},
            "source": "We can find GPS coordinates with Geocoder. "
        },
        {
            "cell_type": "markdown",
            "metadata": {},
            "source": "We\u2019ll retrieve FourSquare data relative to venues in these four cities. This clearly limits the view we\u2019ll have of what is available in the city: \n   *\tFourSquare does not scan all available venues: it\u2019s not a phone book!\n   *\tFourSquare does not scan venues in different cities in a consistent manner, depending on whether the application exists in the local language, whether FourSquare members usually travel there or not. As FourSquare is an American company, it probably has more venues in North America than in Europe. When comparing cities, we will be vigilant and weigh the number of venues vs. total of available venues for each city.  "
        },
        {
            "cell_type": "markdown",
            "metadata": {},
            "source": "However, the advantage of FourSquare is that venues posted will be open to most and will also be suitable for visitors. Depending on which venues will come up, we\u2019ll know whether the city offers a lot of monuments / historic sites, or art museums / theaters / bookstores meaning cultural life\u2026 And looking at which venues are the top ones, we\u2019ll learn about what most visitors really want to experience in each city!"
        },
        {
            "cell_type": "markdown",
            "metadata": {},
            "source": "We\u2019ll then try to cluster the data thanks to KMeans (from SciKit library) and find out which boroughs offer a similar experience, and actually what experience they offer. If a tourist wants to visit historic sites, travel agent will then be able to tell him: \u201cyes for sure! You can go to such borough in Rome, or to the borough X in Barcelone, but you should probably prefer Paris (borough Y) because this is the city for history lovers! \u201c"
        },
        {
            "cell_type": "markdown",
            "metadata": {},
            "source": "We\u2019ll eventually use vizualisation techniques like Folium maps and Matplotlib bar charts to better demonstrate the data outputs and ensure that they are understandable by the defined end users."
        },
        {
            "cell_type": "markdown",
            "metadata": {},
            "source": "*So, does one really eat pizzas in Italy, drink wine in France or beer in London, and have tapas for dinner in Spain? Is one city \"greener\" than the others? Let\u2019s have a look!*"
        },
        {
            "cell_type": "code",
            "execution_count": null,
            "metadata": {},
            "outputs": [],
            "source": ""
        }
    ],
    "metadata": {
        "kernelspec": {
            "display_name": "Python 3.6",
            "language": "python",
            "name": "python3"
        },
        "language_info": {
            "codemirror_mode": {
                "name": "ipython",
                "version": 3
            },
            "file_extension": ".py",
            "mimetype": "text/x-python",
            "name": "python",
            "nbconvert_exporter": "python",
            "pygments_lexer": "ipython3",
            "version": "3.6.9"
        }
    },
    "nbformat": 4,
    "nbformat_minor": 1
}